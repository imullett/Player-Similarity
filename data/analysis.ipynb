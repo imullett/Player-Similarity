{
 "cells": [
  {
   "cell_type": "code",
   "execution_count": 470,
   "metadata": {},
   "outputs": [],
   "source": [
    "from nba_api.stats.endpoints import playercareerstats\n",
    "from nba_api.stats.static import players\n",
    "all_players = players.get_players()"
   ]
  },
  {
   "cell_type": "code",
   "execution_count": 471,
   "metadata": {},
   "outputs": [],
   "source": [
    "import pandas as pd\n",
    "import numpy as np"
   ]
  },
  {
   "cell_type": "code",
   "execution_count": 472,
   "metadata": {},
   "outputs": [],
   "source": [
    "stats = pd.read_csv('Seasons_Stats.csv', index_col=0)\n",
    "stats.reset_index(drop=True, inplace=True)\n",
    "stats = stats[stats['Year'] >= 1982]\n",
    "stats = stats[stats['G'] >= 10]\n",
    "stats = stats[stats['MP'] >= 200]\n",
    "stats = stats[~stats.duplicated(['Year', 'Player'])]"
   ]
  },
  {
   "cell_type": "code",
   "execution_count": 473,
   "metadata": {},
   "outputs": [],
   "source": [
    "# Normalize to per 36 minutes\n",
    "stats['MP'] = stats['MP'] / 36\n",
    "stats['OWS'] = stats['OWS'] / stats['MP']\n",
    "stats['DWS'] = stats['DWS'] / stats['MP']\n",
    "stats['WS'] = stats['WS'] / stats['MP']\n",
    "stats['FG'] = stats['FG'] / stats['MP']\n",
    "stats['FGA'] = stats['FGA'] / stats['MP']\n",
    "stats['3P'] = stats['3P'] / stats['MP']\n",
    "stats['3PA'] = stats['3PA'] / stats['MP']\n",
    "stats['2P'] = stats['2P'] / stats['MP']\n",
    "stats['2PA'] = stats['2PA'] / stats['MP']\n",
    "stats['FT'] = stats['FT'] / stats['MP']\n",
    "stats['FTA'] = stats['FTA'] / stats['MP']\n",
    "stats['ORB'] = stats['ORB'] / stats['MP']\n",
    "stats['DRB'] = stats['DRB'] / stats['MP']\n",
    "stats['TRB'] = stats['TRB'] / stats['MP']\n",
    "stats['AST'] = stats['AST'] / stats['MP']\n",
    "stats['STL'] = stats['STL'] / stats['MP']\n",
    "stats['BLK'] = stats['BLK'] / stats['MP']\n",
    "stats['TOV'] = stats['TOV'] / stats['MP']\n",
    "stats['PF'] = stats['PF'] / stats['MP']\n",
    "stats['PTS'] = stats['PTS'] / stats['MP']\n",
    "\n",
    "def clean_dataset(df):\n",
    "    assert isinstance(df, pd.DataFrame), \"df needs to be a pd.DataFrame\"\n",
    "    df.dropna(inplace=True)\n",
    "    indices_to_keep = ~df.isin([np.nan, np.inf, -np.inf]).any(1)\n",
    "    return df[indices_to_keep]\n",
    "\n",
    "stats = clean_dataset(stats)"
   ]
  },
  {
   "cell_type": "code",
   "execution_count": 474,
   "metadata": {},
   "outputs": [],
   "source": [
    "# standard scale data with sklearn\n",
    "from sklearn.preprocessing import StandardScaler\n",
    "from sklearn.decomposition import PCA\n",
    "\n",
    "scaler = StandardScaler()\n",
    "scaled_stats = stats.iloc[:, 5:]\n",
    "scaled_stats = scaler.fit_transform(scaled_stats)\n",
    "\n",
    "\n",
    "pca = PCA(n_components=2).fit(scaled_stats)\n",
    "out = pca.transform(scaled_stats)"
   ]
  },
  {
   "cell_type": "code",
   "execution_count": 475,
   "metadata": {},
   "outputs": [],
   "source": [
    "# merge out with stats\n",
    "stats['PC1'] = out[:, 0]\n",
    "stats['PC2'] = out[:, 1]"
   ]
  },
  {
   "cell_type": "code",
   "execution_count": 476,
   "metadata": {},
   "outputs": [],
   "source": [
    "# euclidian distance nearest neighbors\n",
    "from sklearn.neighbors import NearestNeighbors\n",
    "def nearest_neighbors(values, all_values, nbr_neighbors=10):\n",
    "    nn = NearestNeighbors(n_neighbors=nbr_neighbors, algorithm='brute').fit(all_values)\n",
    "    dists, idxs = nn.kneighbors(values)"
   ]
  },
  {
   "cell_type": "code",
   "execution_count": 477,
   "metadata": {},
   "outputs": [
    {
     "data": {
      "text/plain": [
       "array([[11.23243238,  7.60958552]])"
      ]
     },
     "execution_count": 477,
     "metadata": {},
     "output_type": "execute_result"
    }
   ],
   "source": [
    "# get stephen curry from player columns\n",
    "curry = stats[stats['Player'] == 'LeBron James'][['PC1', 'PC2']].iloc[6]\n",
    "curry = np.array(curry).reshape(1, -1)\n",
    "curry"
   ]
  },
  {
   "cell_type": "code",
   "execution_count": 478,
   "metadata": {},
   "outputs": [],
   "source": [
    "nbr = NearestNeighbors(n_neighbors=10, algorithm='brute').fit(np.array(stats[['PC1', 'PC2']]))\n",
    "dists, idx = nbr.kneighbors(curry)"
   ]
  },
  {
   "cell_type": "code",
   "execution_count": 479,
   "metadata": {},
   "outputs": [],
   "source": [
    "# slice pandas dataframe from array of indices\n",
    "#stats.iloc[idx[0, :], :]"
   ]
  },
  {
   "cell_type": "code",
   "execution_count": 480,
   "metadata": {},
   "outputs": [],
   "source": [
    "import nba_api.stats.static as static\n",
    "# get  lebron player id from nba api\n",
    "nba_players = static.players.get_players()"
   ]
  },
  {
   "cell_type": "code",
   "execution_count": 481,
   "metadata": {},
   "outputs": [],
   "source": [
    "def get_id(name):\n",
    "  try:\n",
    "     return [player for player in nba_players if player['full_name'].replace(\".\", \"\") == name.replace(\".\", \"\")][0]['id']\n",
    "  except:\n",
    "      print(name)\n",
    "      return None"
   ]
  },
  {
   "cell_type": "code",
   "execution_count": 482,
   "metadata": {},
   "outputs": [],
   "source": [
    "# change name for player names world b\n",
    "stats['Player'] = stats['Player'].str.replace('World B', 'World Free')\n",
    "stats['Player'] = stats['Player'].str.replace('Billy Ray', 'Billyray Bates')\n",
    "stats['Player'] = stats['Player'].str.replace('Danny Schayes', 'Dan Schayes')\n",
    "stats['Player'] = stats['Player'].str.replace('Dave Greenwood', 'David Greenwood')\n",
    "stats['Player'] = stats['Player'].str.replace('Fat Lever', 'Lafayette Lever')\n",
    "stats['Player'] = stats['Player'].str.replace('Metta World', 'Metta World Peace')\n",
    "stats['Player'] = stats['Player'].str.replace('Nene Hilario', 'Nene')\n",
    "stats['Player'] = stats['Player'].str.replace('Marcus Morris', 'Marcus Morris Sr.')\n",
    "stats['Player'] = stats['Player'].str.replace('Kelly Oubre', 'Kelly Oubre Jr.')"
   ]
  },
  {
   "cell_type": "code",
   "execution_count": 483,
   "metadata": {},
   "outputs": [
    {
     "data": {
      "text/plain": [
       "2747"
      ]
     },
     "execution_count": 483,
     "metadata": {},
     "output_type": "execute_result"
    }
   ],
   "source": [
    "get_id('JR Smith')"
   ]
  },
  {
   "cell_type": "code",
   "execution_count": 442,
   "metadata": {},
   "outputs": [
    {
     "data": {
      "text/plain": [
       "'O.J. Mayo'"
      ]
     },
     "execution_count": 442,
     "metadata": {},
     "output_type": "execute_result"
    }
   ],
   "source": [
    "[player for player in nba_players if player['id'] == 201564][0]['full_name']"
   ]
  },
  {
   "cell_type": "code",
   "execution_count": 484,
   "metadata": {},
   "outputs": [],
   "source": [
    "stats.insert(loc=3, column='ID', value=['' for i in range(stats.shape[0])])"
   ]
  },
  {
   "cell_type": "code",
   "execution_count": 485,
   "metadata": {},
   "outputs": [
    {
     "name": "stderr",
     "output_type": "stream",
     "text": [
      "/var/folders/6k/w7vl77bd4rv2ffm_4p_nyxfr0000gn/T/ipykernel_27083/3759095836.py:1: FutureWarning: The default value of regex will change from True to False in a future version.\n",
      "  stats['Player'] = stats['Player'].str.replace('\\*', '')\n"
     ]
    }
   ],
   "source": [
    "\n",
    "stats['Player'] = stats['Player'].str.replace('\\*', '')\n",
    "# Replace in rows where ID is empty\n",
    "\n",
    "\n"
   ]
  },
  {
   "cell_type": "code",
   "execution_count": 486,
   "metadata": {},
   "outputs": [
    {
     "name": "stdout",
     "output_type": "stream",
     "text": [
      "Tiny Archibald\n",
      "Joe Barry\n",
      "Charles Davis\n",
      "Joe Hassett\n",
      "James Ray\n",
      "Micheal Ray\n",
      "Cliff Robinson\n",
      "Jan Van\n",
      "Hawkeye Whitney\n",
      "J.J. Anderson\n",
      "Tiny Archibald\n",
      "Joe Barry\n",
      "Charles Davis\n",
      "James Ray\n",
      "Micheal Ray\n",
      "Cliff Robinson\n",
      "Ed Sherod\n",
      "Pete Verhoeven\n",
      "J.J. Anderson\n",
      "Tiny Archibald\n",
      "Joe Barry\n",
      "Charles Davis\n",
      "Charles Pittman\n",
      "Micheal Ray\n",
      "Cliff Robinson\n",
      "Pete Verhoeven\n",
      "J.J. Anderson\n",
      "Charles Davis\n",
      "Mike Holton\n",
      "Charles Pittman\n",
      "Micheal Ray\n",
      "Cliff Robinson\n",
      "Eddie Lee\n",
      "Joe Barry\n",
      "Charles Davis\n",
      "Mike Holton\n",
      "Michael Phelps\n",
      "Micheal Ray\n",
      "Cliff Robinson\n",
      "Melvin Turpin\n",
      "Pete Verhoeven\n",
      "Mike Holton\n",
      "Maurice Martin\n",
      "Michael Phelps\n",
      "Cliff Robinson\n",
      "Pearl Washington\n",
      "Eddie Lee\n",
      "Hot Rod\n",
      "Joe Barry\n",
      "Charles Davis\n",
      "Mike Holton\n",
      "Cliff Robinson\n",
      "Melvin Turpin\n",
      "Pearl Washington\n",
      "Hot Rod\n",
      "Charles Davis\n",
      "Vinny Del\n",
      "Ron Grandison\n",
      "Mike Holton\n",
      "Cliff Robinson\n",
      "Pearl Washington\n",
      "Eddie Lee\n",
      "Hot Rod\n",
      "Joe Barry\n",
      "Charles Davis\n",
      "Vinny Del\n",
      "Melvin Turpin\n",
      "Eddie Lee\n",
      "Eddie Lee\n",
      "Hot Rod\n",
      "LaBradford Smith\n",
      "Steve Smith\n",
      "Hot Rod\n",
      "Isaac Austin\n",
      "Vinny Del\n",
      "LaBradford Smith\n",
      "Steve Smith\n",
      "Clarence Weatherspoon\n",
      "Isaac Austin\n",
      "Vinny Del\n",
      "Jo Jo\n",
      "LaBradford Smith\n",
      "Steve Smith\n",
      "Nick Van\n",
      "Clarence Weatherspoon\n",
      "Vinny Del\n",
      "Steve Smith\n",
      "Nick Van\n",
      "Clarence Weatherspoon\n",
      "Hot Rod\n",
      "Vinny Del\n",
      "Ron Grandison\n",
      "Rich Manning\n",
      "Steve Smith\n",
      "Nick Van\n",
      "Clarence Weatherspoon\n",
      "Hot Rod\n",
      "Isaac Austin\n",
      "Vinny Del\n",
      "Rich Manning\n",
      "Steve Smith\n",
      "Nick Van\n",
      "Clarence Weatherspoon\n",
      "Hot Rod\n",
      "Isaac Austin\n",
      "Vinny Del\n",
      "Steve Smith\n",
      "Nick Van\n",
      "Keith Van\n",
      "Isaac Austin\n",
      "Vinny Del\n",
      "Steve Smith\n",
      "Nick Van\n",
      "Keith Van\n",
      "Isaac Austin\n",
      "Vinny Del\n",
      "Steve Smith\n",
      "Nick Van\n",
      "Keith Van\n",
      "Isaac Austin\n",
      "Vinny Del\n",
      "Steve Smith\n",
      "Nick Van\n",
      "Keith Van\n",
      "Isaac Austin\n",
      "Stanislav Medvedenko\n",
      "Steve Smith\n",
      "Nick Van\n",
      "Keith Van\n",
      "Wang Zhizhi\n",
      "Stanislav Medvedenko\n",
      "Steve Smith\n",
      "Nick Van\n",
      "Keith Van\n",
      "Wang Zhizhi\n",
      "Roger Mason\n",
      "Stanislav Medvedenko\n",
      "Ronald Murray\n",
      "Steve Smith\n",
      "Mike Sweetney\n",
      "Nick Van\n",
      "Keith Van\n",
      "Clarence Weatherspoon\n",
      "Stanislav Medvedenko\n",
      "Ronald Murray\n",
      "Steve Smith\n",
      "Mike Sweetney\n",
      "Nick Van\n",
      "Keith Van\n",
      "Didier Ilunga-Mbenga\n",
      "Ronald Murray\n",
      "Nick Van\n",
      "Keith Van\n",
      "Roger Mason\n",
      "Ronald Murray\n",
      "Roger Mason\n",
      "Ronald Murray\n",
      "Juan Carlos\n",
      "Roger Mason\n",
      "Luc Mbah\n",
      "Ronald Murray\n",
      "Roger Mason\n",
      "Luc Mbah\n",
      "Ronald Murray\n",
      "Eugene Jeter\n",
      "Roger Mason\n",
      "Luc Mbah\n",
      "Roger Mason\n",
      "Luc Mbah\n",
      "Nando De\n",
      "Perry Jones\n",
      "Roger Mason\n",
      "Luc Mbah\n",
      "Luigi Datome\n",
      "Nando De\n",
      "Perry Jones\n",
      "Roger Mason\n",
      "Luc Mbah\n",
      "Otto Porter\n",
      "Luigi Datome\n",
      "James Ennis\n",
      "Perry Jones\n",
      "Luc Mbah\n",
      "Otto Porter\n",
      "James Ennis\n",
      "Luc Mbah\n",
      "James Michael\n",
      "Johnny O'Bryant\n",
      "Otto Porter\n",
      "Wade Baldwin\n",
      "James Ennis\n",
      "Juan Hernangomez\n",
      "Derrick Jones\n",
      "Luc Mbah\n",
      "James Michael\n",
      "Sheldon McClellan\n",
      "Otto Porter\n",
      "Taurean Waller-Prince\n"
     ]
    }
   ],
   "source": [
    "name = stats['Player'].iloc[0]\n",
    "stats['ID'] = stats['Player'].apply(lambda x: get_id(x))"
   ]
  },
  {
   "cell_type": "code",
   "execution_count": 487,
   "metadata": {},
   "outputs": [],
   "source": [
    "stats.dropna(subset=['ID'], inplace=True)"
   ]
  },
  {
   "cell_type": "code",
   "execution_count": 488,
   "metadata": {},
   "outputs": [],
   "source": [
    "# save stats to csv\n",
    "stats.to_csv('Seasons_Stats.csv')\n"
   ]
  },
  {
   "cell_type": "code",
   "execution_count": null,
   "metadata": {},
   "outputs": [],
   "source": []
  }
 ],
 "metadata": {
  "interpreter": {
   "hash": "aee8b7b246df8f9039afb4144a1f6fd8d2ca17a180786b69acc140d282b71a49"
  },
  "kernelspec": {
   "display_name": "Python 3.9.10 64-bit",
   "language": "python",
   "name": "python3"
  },
  "language_info": {
   "codemirror_mode": {
    "name": "ipython",
    "version": 3
   },
   "file_extension": ".py",
   "mimetype": "text/x-python",
   "name": "python",
   "nbconvert_exporter": "python",
   "pygments_lexer": "ipython3",
   "version": "3.9.10"
  },
  "orig_nbformat": 4
 },
 "nbformat": 4,
 "nbformat_minor": 2
}
